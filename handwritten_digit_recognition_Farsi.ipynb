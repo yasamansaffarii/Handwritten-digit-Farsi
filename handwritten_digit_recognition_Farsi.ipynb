{
  "nbformat": 4,
  "nbformat_minor": 0,
  "metadata": {
    "colab": {
      "name": "handwritten digit recognition Farsi.ipynb",
      "provenance": []
    },
    "kernelspec": {
      "name": "python3",
      "display_name": "Python 3"
    }
  },
  "cells": [
    {
      "cell_type": "markdown",
      "metadata": {
        "id": "9HXCmBMCYOch"
      },
      "source": [
        "یاسمن صفاری\r\n",
        "برنامه ای بنویسید که اعداد دستنویس را تشخیص دهد\r\n",
        "دیتا ست : هدی فارسی    https://farsiocr.ir/%D9%85%D8%AC%D9%85%D9%88%D8%B9%D9%87-%D8%AF%D8%A7%D8%AF%D9%87/%D9%85%D8%AC%D9%85%D9%88%D8%B9%D9%87-%D8%A7%D8%B1%D9%82%D8%A7%D9%85-%D8%AF%D8%B3%D8%AA%D9%86%D9%88%DB%8C%D8%B3-%D9%87%D8%AF%DB%8C/\r\n",
        "\r\n",
        "\r\n",
        "\r\n",
        "مشخصات شبکه:\r\n",
        "یک شبکه عصبی ساده با سه لایه مخفی\r\n",
        "10 تا نورون در خروی چون ده عدد داریم\r\n",
        "گرادیان کاهشی تصادفی آدام\r\n",
        "لاس کراس انتروپی"
      ]
    },
    {
      "cell_type": "code",
      "metadata": {
        "id": "4O6pmRVSSRej"
      },
      "source": [
        "import scipy.io\r\n",
        "import numpy as np\r\n",
        "import matplotlib.pyplot as plt\r\n",
        "import matplotlib\r\n",
        "import cv2"
      ],
      "execution_count": 8,
      "outputs": []
    },
    {
      "cell_type": "code",
      "metadata": {
        "id": "v5N_9pcXSVz4"
      },
      "source": [
        "import keras\r\n",
        "from keras.layers import Dense\r\n",
        "from keras.models import Sequential"
      ],
      "execution_count": 9,
      "outputs": []
    },
    {
      "cell_type": "code",
      "metadata": {
        "id": "5XAEoeXxUcM9"
      },
      "source": [
        "\r\n",
        "hoda = scipy.io.loadmat(\"/content/Data_hoda_full.mat\")"
      ],
      "execution_count": 11,
      "outputs": []
    },
    {
      "cell_type": "code",
      "metadata": {
        "id": "KegRpmc1UcOu"
      },
      "source": [
        "\r\n",
        "data= hoda['Data'].reshape(-1)\r\n",
        "labels = hoda['labels'].reshape(-1)\r\n",
        "data_resized = np.array([cv2.resize(img, dsize=(5, 5)) for img in data])\r\n",
        "data_norm = data_resized/255\r\n",
        "data_norm = data_norm.reshape(60000,25)\r\n"
      ],
      "execution_count": 12,
      "outputs": []
    },
    {
      "cell_type": "code",
      "metadata": {
        "colab": {
          "base_uri": "https://localhost:8080/"
        },
        "id": "j49xJ0yJUcTD",
        "outputId": "3d4946df-2d03-46e9-fde3-21a7d956ae74"
      },
      "source": [
        "from sklearn.model_selection import train_test_split\r\n",
        "X_train, X_test, y_train, y_test = train_test_split(data_norm,labels)\r\n",
        "\r\n",
        "n_classes = 10\r\n",
        "y_train_cat = keras.utils.to_categorical(y_train, n_classes)\r\n",
        "y_test_cat = keras.utils.to_categorical(y_test,n_classes)\r\n",
        "y_train[1]"
      ],
      "execution_count": 20,
      "outputs": [
        {
          "output_type": "execute_result",
          "data": {
            "text/plain": [
              "7"
            ]
          },
          "metadata": {
            "tags": []
          },
          "execution_count": 20
        }
      ]
    },
    {
      "cell_type": "code",
      "metadata": {
        "id": "xKf8WCpqUcU9"
      },
      "source": [
        ""
      ],
      "execution_count": 14,
      "outputs": []
    },
    {
      "cell_type": "code",
      "metadata": {
        "id": "R3Op8e9qUcYK"
      },
      "source": [
        ""
      ],
      "execution_count": 14,
      "outputs": []
    },
    {
      "cell_type": "code",
      "metadata": {
        "id": "t3gM2flNSV2X"
      },
      "source": [
        "\r\n",
        "model = Sequential()"
      ],
      "execution_count": 15,
      "outputs": []
    },
    {
      "cell_type": "code",
      "metadata": {
        "id": "U1EXwlHqSV5v"
      },
      "source": [
        "model = Sequential()\r\n",
        "model.add(Dense(40,activation = 'sigmoid', input_shape = (25,)))\r\n",
        "model.add(Dense(30,activation = 'sigmoid'))\r\n",
        "model.add(Dense(40,activation = 'relu'))\r\n",
        "model.add(Dense(10, activation='softmax'))"
      ],
      "execution_count": 26,
      "outputs": []
    },
    {
      "cell_type": "code",
      "metadata": {
        "id": "rajlLiQaSV7f"
      },
      "source": [
        "model.compile(loss = 'categorical_crossentropy',optimizer='adam', metrics=['accuracy'])"
      ],
      "execution_count": 27,
      "outputs": []
    },
    {
      "cell_type": "code",
      "metadata": {
        "colab": {
          "base_uri": "https://localhost:8080/"
        },
        "id": "d1j63BpvSWBz",
        "outputId": "6215b3cf-2239-4b46-ec64-92b4dff1e5e5"
      },
      "source": [
        "model.fit(X_train,y_train_cat, batch_size = 512, epochs=100,verbose = 1)"
      ],
      "execution_count": 28,
      "outputs": [
        {
          "output_type": "stream",
          "text": [
            "Epoch 1/100\n",
            "88/88 [==============================] - 0s 2ms/step - loss: 2.2554 - accuracy: 0.2255\n",
            "Epoch 2/100\n",
            "88/88 [==============================] - 0s 2ms/step - loss: 1.8304 - accuracy: 0.4555\n",
            "Epoch 3/100\n",
            "88/88 [==============================] - 0s 2ms/step - loss: 1.2699 - accuracy: 0.6458\n",
            "Epoch 4/100\n",
            "88/88 [==============================] - 0s 2ms/step - loss: 0.8796 - accuracy: 0.7616\n",
            "Epoch 5/100\n",
            "88/88 [==============================] - 0s 2ms/step - loss: 0.6325 - accuracy: 0.8134\n",
            "Epoch 6/100\n",
            "88/88 [==============================] - 0s 2ms/step - loss: 0.5208 - accuracy: 0.8379\n",
            "Epoch 7/100\n",
            "88/88 [==============================] - 0s 2ms/step - loss: 0.4694 - accuracy: 0.8494\n",
            "Epoch 8/100\n",
            "88/88 [==============================] - 0s 2ms/step - loss: 0.4400 - accuracy: 0.8579\n",
            "Epoch 9/100\n",
            "88/88 [==============================] - 0s 2ms/step - loss: 0.4186 - accuracy: 0.8647\n",
            "Epoch 10/100\n",
            "88/88 [==============================] - 0s 2ms/step - loss: 0.4027 - accuracy: 0.8694\n",
            "Epoch 11/100\n",
            "88/88 [==============================] - 0s 2ms/step - loss: 0.3886 - accuracy: 0.8735\n",
            "Epoch 12/100\n",
            "88/88 [==============================] - 0s 2ms/step - loss: 0.3752 - accuracy: 0.8779\n",
            "Epoch 13/100\n",
            "88/88 [==============================] - 0s 2ms/step - loss: 0.3633 - accuracy: 0.8818\n",
            "Epoch 14/100\n",
            "88/88 [==============================] - 0s 2ms/step - loss: 0.3522 - accuracy: 0.8855\n",
            "Epoch 15/100\n",
            "88/88 [==============================] - 0s 2ms/step - loss: 0.3410 - accuracy: 0.8890\n",
            "Epoch 16/100\n",
            "88/88 [==============================] - 0s 2ms/step - loss: 0.3311 - accuracy: 0.8920\n",
            "Epoch 17/100\n",
            "88/88 [==============================] - 0s 2ms/step - loss: 0.3211 - accuracy: 0.8955\n",
            "Epoch 18/100\n",
            "88/88 [==============================] - 0s 2ms/step - loss: 0.3114 - accuracy: 0.8987\n",
            "Epoch 19/100\n",
            "88/88 [==============================] - 0s 2ms/step - loss: 0.3026 - accuracy: 0.9016\n",
            "Epoch 20/100\n",
            "88/88 [==============================] - 0s 2ms/step - loss: 0.2943 - accuracy: 0.9048\n",
            "Epoch 21/100\n",
            "88/88 [==============================] - 0s 2ms/step - loss: 0.2859 - accuracy: 0.9076\n",
            "Epoch 22/100\n",
            "88/88 [==============================] - 0s 2ms/step - loss: 0.2787 - accuracy: 0.9098\n",
            "Epoch 23/100\n",
            "88/88 [==============================] - 0s 2ms/step - loss: 0.2713 - accuracy: 0.9121\n",
            "Epoch 24/100\n",
            "88/88 [==============================] - 0s 2ms/step - loss: 0.2642 - accuracy: 0.9145\n",
            "Epoch 25/100\n",
            "88/88 [==============================] - 0s 2ms/step - loss: 0.2584 - accuracy: 0.9162\n",
            "Epoch 26/100\n",
            "88/88 [==============================] - 0s 2ms/step - loss: 0.2520 - accuracy: 0.9184\n",
            "Epoch 27/100\n",
            "88/88 [==============================] - 0s 2ms/step - loss: 0.2461 - accuracy: 0.9201\n",
            "Epoch 28/100\n",
            "88/88 [==============================] - 0s 2ms/step - loss: 0.2407 - accuracy: 0.9220\n",
            "Epoch 29/100\n",
            "88/88 [==============================] - 0s 2ms/step - loss: 0.2361 - accuracy: 0.9236\n",
            "Epoch 30/100\n",
            "88/88 [==============================] - 0s 2ms/step - loss: 0.2322 - accuracy: 0.9241\n",
            "Epoch 31/100\n",
            "88/88 [==============================] - 0s 2ms/step - loss: 0.2268 - accuracy: 0.9266\n",
            "Epoch 32/100\n",
            "88/88 [==============================] - 0s 2ms/step - loss: 0.2232 - accuracy: 0.9270\n",
            "Epoch 33/100\n",
            "88/88 [==============================] - 0s 2ms/step - loss: 0.2200 - accuracy: 0.9287\n",
            "Epoch 34/100\n",
            "88/88 [==============================] - 0s 2ms/step - loss: 0.2160 - accuracy: 0.9300\n",
            "Epoch 35/100\n",
            "88/88 [==============================] - 0s 2ms/step - loss: 0.2127 - accuracy: 0.9313\n",
            "Epoch 36/100\n",
            "88/88 [==============================] - 0s 2ms/step - loss: 0.2103 - accuracy: 0.9323\n",
            "Epoch 37/100\n",
            "88/88 [==============================] - 0s 2ms/step - loss: 0.2075 - accuracy: 0.9326\n",
            "Epoch 38/100\n",
            "88/88 [==============================] - 0s 2ms/step - loss: 0.2049 - accuracy: 0.9337\n",
            "Epoch 39/100\n",
            "88/88 [==============================] - 0s 2ms/step - loss: 0.2029 - accuracy: 0.9339\n",
            "Epoch 40/100\n",
            "88/88 [==============================] - 0s 2ms/step - loss: 0.2008 - accuracy: 0.9351\n",
            "Epoch 41/100\n",
            "88/88 [==============================] - 0s 2ms/step - loss: 0.1987 - accuracy: 0.9360\n",
            "Epoch 42/100\n",
            "88/88 [==============================] - 0s 2ms/step - loss: 0.1968 - accuracy: 0.9363\n",
            "Epoch 43/100\n",
            "88/88 [==============================] - 0s 2ms/step - loss: 0.1953 - accuracy: 0.9365\n",
            "Epoch 44/100\n",
            "88/88 [==============================] - 0s 2ms/step - loss: 0.1933 - accuracy: 0.9368\n",
            "Epoch 45/100\n",
            "88/88 [==============================] - 0s 2ms/step - loss: 0.1912 - accuracy: 0.9383\n",
            "Epoch 46/100\n",
            "88/88 [==============================] - 0s 2ms/step - loss: 0.1904 - accuracy: 0.9390\n",
            "Epoch 47/100\n",
            "88/88 [==============================] - 0s 3ms/step - loss: 0.1882 - accuracy: 0.9387\n",
            "Epoch 48/100\n",
            "88/88 [==============================] - 0s 2ms/step - loss: 0.1866 - accuracy: 0.9393\n",
            "Epoch 49/100\n",
            "88/88 [==============================] - 0s 2ms/step - loss: 0.1853 - accuracy: 0.9402\n",
            "Epoch 50/100\n",
            "88/88 [==============================] - 0s 2ms/step - loss: 0.1837 - accuracy: 0.9400\n",
            "Epoch 51/100\n",
            "88/88 [==============================] - 0s 2ms/step - loss: 0.1826 - accuracy: 0.9406\n",
            "Epoch 52/100\n",
            "88/88 [==============================] - 0s 2ms/step - loss: 0.1807 - accuracy: 0.9412\n",
            "Epoch 53/100\n",
            "88/88 [==============================] - 0s 2ms/step - loss: 0.1801 - accuracy: 0.9409\n",
            "Epoch 54/100\n",
            "88/88 [==============================] - 0s 2ms/step - loss: 0.1789 - accuracy: 0.9419\n",
            "Epoch 55/100\n",
            "88/88 [==============================] - 0s 2ms/step - loss: 0.1773 - accuracy: 0.9421\n",
            "Epoch 56/100\n",
            "88/88 [==============================] - 0s 2ms/step - loss: 0.1763 - accuracy: 0.9425\n",
            "Epoch 57/100\n",
            "88/88 [==============================] - 0s 2ms/step - loss: 0.1753 - accuracy: 0.9432\n",
            "Epoch 58/100\n",
            "88/88 [==============================] - 0s 2ms/step - loss: 0.1736 - accuracy: 0.9440\n",
            "Epoch 59/100\n",
            "88/88 [==============================] - 0s 2ms/step - loss: 0.1725 - accuracy: 0.9439\n",
            "Epoch 60/100\n",
            "88/88 [==============================] - 0s 2ms/step - loss: 0.1713 - accuracy: 0.9441\n",
            "Epoch 61/100\n",
            "88/88 [==============================] - 0s 2ms/step - loss: 0.1706 - accuracy: 0.9446\n",
            "Epoch 62/100\n",
            "88/88 [==============================] - 0s 2ms/step - loss: 0.1697 - accuracy: 0.9448\n",
            "Epoch 63/100\n",
            "88/88 [==============================] - 0s 2ms/step - loss: 0.1690 - accuracy: 0.9451\n",
            "Epoch 64/100\n",
            "88/88 [==============================] - 0s 2ms/step - loss: 0.1681 - accuracy: 0.9450\n",
            "Epoch 65/100\n",
            "88/88 [==============================] - 0s 2ms/step - loss: 0.1669 - accuracy: 0.9450\n",
            "Epoch 66/100\n",
            "88/88 [==============================] - 0s 2ms/step - loss: 0.1659 - accuracy: 0.9458\n",
            "Epoch 67/100\n",
            "88/88 [==============================] - 0s 2ms/step - loss: 0.1649 - accuracy: 0.9464\n",
            "Epoch 68/100\n",
            "88/88 [==============================] - 0s 2ms/step - loss: 0.1645 - accuracy: 0.9458\n",
            "Epoch 69/100\n",
            "88/88 [==============================] - 0s 2ms/step - loss: 0.1635 - accuracy: 0.9466\n",
            "Epoch 70/100\n",
            "88/88 [==============================] - 0s 2ms/step - loss: 0.1630 - accuracy: 0.9467\n",
            "Epoch 71/100\n",
            "88/88 [==============================] - 0s 2ms/step - loss: 0.1622 - accuracy: 0.9463\n",
            "Epoch 72/100\n",
            "88/88 [==============================] - 0s 2ms/step - loss: 0.1608 - accuracy: 0.9471\n",
            "Epoch 73/100\n",
            "88/88 [==============================] - 0s 2ms/step - loss: 0.1601 - accuracy: 0.9472\n",
            "Epoch 74/100\n",
            "88/88 [==============================] - 0s 2ms/step - loss: 0.1595 - accuracy: 0.9476\n",
            "Epoch 75/100\n",
            "88/88 [==============================] - 0s 2ms/step - loss: 0.1585 - accuracy: 0.9477\n",
            "Epoch 76/100\n",
            "88/88 [==============================] - 0s 2ms/step - loss: 0.1582 - accuracy: 0.9479\n",
            "Epoch 77/100\n",
            "88/88 [==============================] - 0s 2ms/step - loss: 0.1571 - accuracy: 0.9480\n",
            "Epoch 78/100\n",
            "88/88 [==============================] - 0s 2ms/step - loss: 0.1566 - accuracy: 0.9483\n",
            "Epoch 79/100\n",
            "88/88 [==============================] - 0s 2ms/step - loss: 0.1557 - accuracy: 0.9485\n",
            "Epoch 80/100\n",
            "88/88 [==============================] - 0s 2ms/step - loss: 0.1554 - accuracy: 0.9482\n",
            "Epoch 81/100\n",
            "88/88 [==============================] - 0s 2ms/step - loss: 0.1544 - accuracy: 0.9489\n",
            "Epoch 82/100\n",
            "88/88 [==============================] - 0s 2ms/step - loss: 0.1539 - accuracy: 0.9486\n",
            "Epoch 83/100\n",
            "88/88 [==============================] - 0s 3ms/step - loss: 0.1540 - accuracy: 0.9483\n",
            "Epoch 84/100\n",
            "88/88 [==============================] - 0s 2ms/step - loss: 0.1530 - accuracy: 0.9492\n",
            "Epoch 85/100\n",
            "88/88 [==============================] - 0s 2ms/step - loss: 0.1523 - accuracy: 0.9492\n",
            "Epoch 86/100\n",
            "88/88 [==============================] - 0s 2ms/step - loss: 0.1519 - accuracy: 0.9489\n",
            "Epoch 87/100\n",
            "88/88 [==============================] - 0s 2ms/step - loss: 0.1509 - accuracy: 0.9495\n",
            "Epoch 88/100\n",
            "88/88 [==============================] - 0s 2ms/step - loss: 0.1500 - accuracy: 0.9495\n",
            "Epoch 89/100\n",
            "88/88 [==============================] - 0s 2ms/step - loss: 0.1504 - accuracy: 0.9498\n",
            "Epoch 90/100\n",
            "88/88 [==============================] - 0s 2ms/step - loss: 0.1496 - accuracy: 0.9502\n",
            "Epoch 91/100\n",
            "88/88 [==============================] - 0s 2ms/step - loss: 0.1496 - accuracy: 0.9500\n",
            "Epoch 92/100\n",
            "88/88 [==============================] - 0s 2ms/step - loss: 0.1484 - accuracy: 0.9502\n",
            "Epoch 93/100\n",
            "88/88 [==============================] - 0s 2ms/step - loss: 0.1480 - accuracy: 0.9502\n",
            "Epoch 94/100\n",
            "88/88 [==============================] - 0s 2ms/step - loss: 0.1477 - accuracy: 0.9511\n",
            "Epoch 95/100\n",
            "88/88 [==============================] - 0s 2ms/step - loss: 0.1467 - accuracy: 0.9506\n",
            "Epoch 96/100\n",
            "88/88 [==============================] - 0s 2ms/step - loss: 0.1468 - accuracy: 0.9509\n",
            "Epoch 97/100\n",
            "88/88 [==============================] - 0s 2ms/step - loss: 0.1461 - accuracy: 0.9511\n",
            "Epoch 98/100\n",
            "88/88 [==============================] - 0s 2ms/step - loss: 0.1455 - accuracy: 0.9504\n",
            "Epoch 99/100\n",
            "88/88 [==============================] - 0s 2ms/step - loss: 0.1453 - accuracy: 0.9507\n",
            "Epoch 100/100\n",
            "88/88 [==============================] - 0s 2ms/step - loss: 0.1448 - accuracy: 0.9513\n"
          ],
          "name": "stdout"
        },
        {
          "output_type": "execute_result",
          "data": {
            "text/plain": [
              "<tensorflow.python.keras.callbacks.History at 0x7f64482950f0>"
            ]
          },
          "metadata": {
            "tags": []
          },
          "execution_count": 28
        }
      ]
    },
    {
      "cell_type": "code",
      "metadata": {
        "colab": {
          "base_uri": "https://localhost:8080/"
        },
        "id": "lA1u8UV4SWDd",
        "outputId": "7fa0d788-2071-4dd9-c4c4-cf9aa8cf6a12"
      },
      "source": [
        "model.evaluate(X_test,y_test_cat)\r\n",
        "#دقت"
      ],
      "execution_count": 29,
      "outputs": [
        {
          "output_type": "stream",
          "text": [
            "469/469 [==============================] - 0s 943us/step - loss: 0.1622 - accuracy: 0.9499\n"
          ],
          "name": "stdout"
        },
        {
          "output_type": "execute_result",
          "data": {
            "text/plain": [
              "[0.1622248888015747, 0.9498666524887085]"
            ]
          },
          "metadata": {
            "tags": []
          },
          "execution_count": 29
        }
      ]
    },
    {
      "cell_type": "code",
      "metadata": {
        "colab": {
          "base_uri": "https://localhost:8080/"
        },
        "id": "rdPRuTknUPy0",
        "outputId": "c0eb6e08-50f7-4ba1-b4da-643a7f314591"
      },
      "source": [
        "preds = model.predict_classes(X_test)\r\n",
        "preds\r\n",
        "#عدد عکسای تستو برمیگردونه"
      ],
      "execution_count": 30,
      "outputs": [
        {
          "output_type": "execute_result",
          "data": {
            "text/plain": [
              "array([8, 1, 3, ..., 5, 8, 2])"
            ]
          },
          "metadata": {
            "tags": []
          },
          "execution_count": 30
        }
      ]
    }
  ]
}